{
 "cells": [
  {
   "cell_type": "code",
   "execution_count": 64,
   "id": "20a40c26-5f05-4fa7-a5af-f87a33931534",
   "metadata": {},
   "outputs": [],
   "source": [
    "import os\n",
    "import json\n",
    "import copy"
   ]
  },
  {
   "cell_type": "code",
   "execution_count": 65,
   "id": "74fa5194-9dca-4774-86f2-88010e54ceab",
   "metadata": {},
   "outputs": [
    {
     "data": {
      "text/plain": [
       "'/opt/ml/detection/dataset'"
      ]
     },
     "execution_count": 65,
     "metadata": {},
     "output_type": "execute_result"
    }
   ],
   "source": [
    "os.getcwd()"
   ]
  },
  {
   "cell_type": "code",
   "execution_count": null,
   "id": "7c987cb1-6219-4399-b4ea-8bacc22fbd0b",
   "metadata": {},
   "outputs": [],
   "source": []
  },
  {
   "cell_type": "code",
   "execution_count": null,
   "id": "38ee2eb1-a5b0-45eb-b6d5-e9b9439a772c",
   "metadata": {},
   "outputs": [],
   "source": []
  },
  {
   "cell_type": "code",
   "execution_count": 113,
   "id": "2f69a1eb-b24e-4e69-bf81-cb4a66349aa0",
   "metadata": {},
   "outputs": [],
   "source": [
    "file_path = \"./new_train.json\"\n",
    "\n",
    "with open(file_path, 'r') as file:\n",
    "    origin = json.load(file)\n",
    "    # print(type(data))\n",
    "    # print(data)\n",
    "    # print(data[\"Tyler\"])"
   ]
  },
  {
   "cell_type": "code",
   "execution_count": 114,
   "id": "35476954-7f34-458d-b561-cefca2e94c4b",
   "metadata": {},
   "outputs": [],
   "source": [
    "data = copy.deepcopy(origin)\n",
    "data1 = copy.deepcopy(origin)"
   ]
  },
  {
   "cell_type": "code",
   "execution_count": 94,
   "id": "f51c031c-31fe-4db5-b3c7-2fdd81b3c8d9",
   "metadata": {},
   "outputs": [
    {
     "data": {
      "text/plain": [
       "dict_keys(['info', 'licenses', 'categories', 'images', 'annotations'])"
      ]
     },
     "execution_count": 94,
     "metadata": {},
     "output_type": "execute_result"
    }
   ],
   "source": [
    "data.keys()"
   ]
  },
  {
   "cell_type": "code",
   "execution_count": 68,
   "id": "c0c6b689-5890-4723-8586-ebbaeff5289b",
   "metadata": {},
   "outputs": [],
   "source": [
    "id_0 = 0\n",
    "id_1 = 0\n",
    "id_2 = 0\n",
    "id_3 = 0\n",
    "id_4 = 0\n",
    "id_5 = 0\n",
    "id_6 = 0\n",
    "id_7 = 0\n",
    "id_8 = 0\n",
    "id_9 = 0\n",
    "for i in range(len(data['annotations'])):\n",
    "    if data['annotations'][i]['category_id'] == 0:\n",
    "        id_0 += 1\n",
    "    elif data['annotations'][i]['category_id'] == 1:\n",
    "        id_1 += 1\n",
    "    elif data['annotations'][i]['category_id'] == 2:\n",
    "        id_2 += 1\n",
    "    elif data['annotations'][i]['category_id'] == 3:\n",
    "        id_3 += 1\n",
    "    elif data['annotations'][i]['category_id'] == 4:\n",
    "        id_4 += 1\n",
    "    elif data['annotations'][i]['category_id'] == 5:\n",
    "        id_5 += 1\n",
    "    elif data['annotations'][i]['category_id'] == 6:\n",
    "        id_6 += 1\n",
    "    elif data['annotations'][i]['category_id'] == 7:\n",
    "        id_7 += 1\n",
    "    elif data['annotations'][i]['category_id'] == 8:\n",
    "        id_8 += 1\n",
    "    elif data['annotations'][i]['category_id'] == 9:\n",
    "        id_9 += 1\n",
    "arr = [id_0, id_1, id_2, id_3, id_4, id_5, id_6, id_7, id_8, id_9]"
   ]
  },
  {
   "cell_type": "code",
   "execution_count": 18,
   "id": "8d8ed729-948f-419c-a7cb-2fffa3d2c534",
   "metadata": {},
   "outputs": [
    {
     "data": {
      "text/plain": [
       "[3165, 4939, 710, 758, 765, 2372, 1036, 4073, 139, 386]"
      ]
     },
     "execution_count": 18,
     "metadata": {},
     "output_type": "execute_result"
    }
   ],
   "source": [
    "arr"
   ]
  },
  {
   "cell_type": "code",
   "execution_count": null,
   "id": "1ce76c30-ba21-4882-a465-69658b1279b8",
   "metadata": {},
   "outputs": [],
   "source": [
    "2,3,4,8,9\n",
    "\n",
    "2,3,4는 3배 8,9는 2배"
   ]
  },
  {
   "cell_type": "code",
   "execution_count": 115,
   "id": "20ae3759-5cd4-46ad-aaab-fa18022bee0e",
   "metadata": {},
   "outputs": [],
   "source": [
    "train = []\n",
    "for i in range(len(data['annotations'])):\n",
    "    if data['annotations'][i]['category_id'] == 2:\n",
    "        train.append(data['annotations'][i])\n",
    "        train.append(data1['annotations'][i])\n",
    "        train[-1]['id'] += 100000\n",
    "        train[-2]['id'] += 1100001\n",
    "\n",
    "    elif data['annotations'][i]['category_id'] == 3:\n",
    "        train.append(data['annotations'][i])\n",
    "        train.append(data1['annotations'][i])\n",
    "        train[-1]['id'] += 200000\n",
    "        train[-2]['id'] += 2200001\n",
    "        \n",
    "\n",
    "    elif data['annotations'][i]['category_id'] == 4:\n",
    "        train.append(data['annotations'][i])\n",
    "        train.append(data1['annotations'][i])\n",
    "        train[-1]['id'] += 300000\n",
    "        train[-2]['id'] += 3300001\n",
    "\n",
    "    \n",
    "    elif data['annotations'][i]['category_id'] == 8:\n",
    "        train.append(data['annotations'][i])\n",
    "\n",
    "        train[-1]['id'] += 400000\n",
    "\n",
    "\n",
    "    elif data['annotations'][i]['category_id'] == 9:\n",
    "        train.append(data['annotations'][i])\n",
    "        \n",
    "        train[-1]['id'] += 500000\n"
   ]
  },
  {
   "cell_type": "code",
   "execution_count": 116,
   "id": "6d2f4a9f-c475-42d6-bb7c-774bb1c8ff24",
   "metadata": {},
   "outputs": [
    {
     "data": {
      "text/plain": [
       "{'image_id': 0,\n",
       " 'category_id': 3,\n",
       " 'area': 324010.8,\n",
       " 'bbox': [267.9, 165.2, 631.6, 513.0],\n",
       " 'iscrowd': 0,\n",
       " 'id': 2200001}"
      ]
     },
     "execution_count": 116,
     "metadata": {},
     "output_type": "execute_result"
    }
   ],
   "source": [
    "data['annotations'][0]"
   ]
  },
  {
   "cell_type": "code",
   "execution_count": 117,
   "id": "d5b69cad-0e6a-4d4b-bab1-a2b70e4925d1",
   "metadata": {},
   "outputs": [
    {
     "data": {
      "text/plain": [
       "{'image_id': 1,\n",
       " 'category_id': 2,\n",
       " 'area': 59550.94,\n",
       " 'bbox': [462.2, 369.4, 233.9, 254.6],\n",
       " 'iscrowd': 0,\n",
       " 'id': 1100002}"
      ]
     },
     "execution_count": 117,
     "metadata": {},
     "output_type": "execute_result"
    }
   ],
   "source": [
    "data['annotations'][1]"
   ]
  },
  {
   "cell_type": "code",
   "execution_count": null,
   "id": "f317710b-2548-4979-b6bc-b05815f13fac",
   "metadata": {},
   "outputs": [],
   "source": []
  },
  {
   "cell_type": "code",
   "execution_count": null,
   "id": "c8f5ad9c-ab69-48ed-b201-e70534fc630f",
   "metadata": {},
   "outputs": [],
   "source": []
  },
  {
   "cell_type": "code",
   "execution_count": 118,
   "id": "f97f0656-3e5b-480a-b11f-0fa60bce7502",
   "metadata": {},
   "outputs": [],
   "source": [
    "origin['annotations'].extend(train)"
   ]
  },
  {
   "cell_type": "code",
   "execution_count": null,
   "id": "17d4023d-957e-4e5c-a2b7-79dbc97cd6d0",
   "metadata": {},
   "outputs": [],
   "source": []
  },
  {
   "cell_type": "code",
   "execution_count": 119,
   "id": "79629487-7978-47fd-bdbe-bcc3998ad215",
   "metadata": {},
   "outputs": [],
   "source": [
    "add_id = []\n",
    "for i in range(len(origin['annotations'])):\n",
    "    add_id.append(origin['annotations'][i]['id'])"
   ]
  },
  {
   "cell_type": "code",
   "execution_count": 120,
   "id": "776470b9-48ac-4ef3-aad9-6db43a21fc59",
   "metadata": {},
   "outputs": [],
   "source": [
    "set_add_id = list(set(add_id))"
   ]
  },
  {
   "cell_type": "code",
   "execution_count": 121,
   "id": "9c17b128-ef4a-4642-9e2d-455a1bfd604d",
   "metadata": {},
   "outputs": [
    {
     "name": "stdout",
     "output_type": "stream",
     "text": [
      "27971 27971\n"
     ]
    }
   ],
   "source": [
    "print(len(add_id), len(set_add_id))"
   ]
  },
  {
   "cell_type": "code",
   "execution_count": null,
   "id": "5aebe77b-94b0-4fcb-a943-3a73e1a0228b",
   "metadata": {},
   "outputs": [],
   "source": []
  },
  {
   "cell_type": "code",
   "execution_count": null,
   "id": "0b8355e7-5b82-4865-bf6e-84134b530306",
   "metadata": {},
   "outputs": [],
   "source": [
    "category_id: 객체가 해당하는 class의 id\n",
    "\n",
    "image_id: annotation이 표시된 이미지 고유 id"
   ]
  },
  {
   "cell_type": "code",
   "execution_count": 122,
   "id": "bab7887a-c1f9-4209-9a3b-ab9176b38495",
   "metadata": {},
   "outputs": [
    {
     "data": {
      "text/plain": [
       "'/opt/ml/detection/dataset'"
      ]
     },
     "execution_count": 122,
     "metadata": {},
     "output_type": "execute_result"
    }
   ],
   "source": [
    "os.getcwd()"
   ]
  },
  {
   "cell_type": "code",
   "execution_count": 123,
   "id": "cba1eb71-4e37-43c5-9fcd-d1618a67db95",
   "metadata": {},
   "outputs": [],
   "source": [
    "with open(\"new_train2.json\", \"w\") as f:\n",
    "    json.dump(origin, f)"
   ]
  },
  {
   "cell_type": "code",
   "execution_count": null,
   "id": "507b68eb-02fa-405d-9734-8b103e02e67f",
   "metadata": {},
   "outputs": [],
   "source": []
  },
  {
   "cell_type": "code",
   "execution_count": 60,
   "id": "3dd18160-b47a-4858-9a0c-56d042ba388b",
   "metadata": {},
   "outputs": [],
   "source": [
    "file_path = \"./data.json\"\n",
    "\n",
    "with open(file_path, 'r') as file:\n",
    "    data = json.load(file)"
   ]
  },
  {
   "cell_type": "code",
   "execution_count": null,
   "id": "c7a33c34-bf3f-4452-9279-759d0180bfe4",
   "metadata": {},
   "outputs": [],
   "source": []
  }
 ],
 "metadata": {
  "kernelspec": {
   "display_name": "detection",
   "language": "python",
   "name": "detection"
  },
  "language_info": {
   "codemirror_mode": {
    "name": "ipython",
    "version": 3
   },
   "file_extension": ".py",
   "mimetype": "text/x-python",
   "name": "python",
   "nbconvert_exporter": "python",
   "pygments_lexer": "ipython3",
   "version": "3.7.11"
  }
 },
 "nbformat": 4,
 "nbformat_minor": 5
}
